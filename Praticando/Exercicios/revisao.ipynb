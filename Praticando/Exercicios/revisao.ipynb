{
  "cells": [
    {
      "cell_type": "markdown",
      "metadata": {},
      "source": [
        "## Revisão Python"
      ]
    },
    {
      "cell_type": "markdown",
      "metadata": {},
      "source": [
        "1 - Escreva uma função chamada `verifica_paridade` que receba um número inteiro como parâmetro e retorne uma string: `\"Par\"` se o número for par, e `\"Ímpar\"` caso contrário."
      ]
    },
    {
      "cell_type": "code",
      "execution_count": 1,
      "metadata": {},
      "outputs": [
        {
          "name": "stdout",
          "output_type": "stream",
          "text": [
            "O número 5 é impar!\n"
          ]
        }
      ],
      "source": [
        "def verifica_paridade():\n",
        "    n = int(input('Escreva o número: '))\n",
        "    \n",
        "    if n % 2 == 0:\n",
        "        print(f'O número {n} é par!')\n",
        "    else:\n",
        "        print(f'O número {n} é impar!')\n",
        "        \n",
        "verifica_paridade()"
      ]
    },
    {
      "cell_type": "markdown",
      "metadata": {},
      "source": [
        "2 - Dado a lista de números abaixo, escreva um programa que imprima apenas os números maiores que 10:"
      ]
    },
    {
      "cell_type": "code",
      "execution_count": null,
      "metadata": {},
      "outputs": [
        {
          "name": "stdout",
          "output_type": "stream",
          "text": [
            "Os números maiores que 10 são:  [20, 30]\n"
          ]
        }
      ],
      "source": [
        "def verifica_maior_que_dez():\n",
        "    numeros = [int(n) for n in input('Escreva os números separados por espaço: ').split()]\n",
        "    print('Os números maiores que 10 são: ', [n for n in numeros if n > 10])\n",
        "\n",
        "verifica_maior_que_dez()\n",
        "\n"
      ]
    },
    {
      "cell_type": "markdown",
      "metadata": {},
      "source": [
        "3 - Crie uma tupla com os nomes dos 7 dias da semana. Em seguida, peça ao usuário que digite um número de 1 a 7 e exiba o dia correspondente da semana. Caso o número esteja fora do intervalo, exiba uma mensagem de erro."
      ]
    },
    {
      "cell_type": "code",
      "execution_count": 21,
      "metadata": {},
      "outputs": [
        {
          "name": "stdout",
          "output_type": "stream",
          "text": [
            "Domingo\n"
          ]
        }
      ],
      "source": [
        "dias = (\"Domingo\", \"Segunda-Feira\", \"Terça-Feira\", \"Quarta-Feira\", \"Quinta-Feira\", \"Sexta-Feira\", \"Sabado\")\n",
        "numero = int(input(\"Digite um número de 1 a 7: \"))\n",
        "\n",
        "match numero:\n",
        "    case 1:\n",
        "        print(dias[numero - 1])\n",
        "    case 2:\n",
        "        print(dias[numero - 1])\n",
        "    case 3: \n",
        "        print(dias[numero - 1])\n",
        "    case 4:\n",
        "        print(dias[numero - 1])\n",
        "    case 5:\n",
        "        print(dias[numero - 1])\n",
        "    case 6:\n",
        "        print(dias[numero - 1])\n",
        "    case 7:\n",
        "        print(dias[numero - 1])\n",
        "    case _:\n",
        "        print(\"Número invalido\")    \n",
        "    "
      ]
    },
    {
      "cell_type": "markdown",
      "metadata": {},
      "source": [
        "4 - Crie um dicionário que armazene o nome de três alunos e suas respectivas notas (valores entre 0 e 10). Depois, percorra o dicionário e exiba qual aluno tem a maior nota."
      ]
    },
    {
      "cell_type": "code",
      "execution_count": null,
      "metadata": {},
      "outputs": [
        {
          "name": "stdout",
          "output_type": "stream",
          "text": [
            "O melhor aluno é: Vanderclaison\n"
          ]
        }
      ],
      "source": [
        "listadic = [{\"nome\" : \"Maria\", \"nota\" : \"0\"}, {\"nome\" : \"Mariazinha\", \"nota\" : \"6\"}, {\"nome\" : \"Vanderclaison\", \"nota\" : \"9\"}]\n",
        "maiornota = 0\n",
        "melhoraluno = ''\n",
        "\n",
        "for dicionario in listadic:\n",
        "    nota = int(dicionario['nota'])\n",
        "    if nota > maiornota:\n",
        "        maiornota = nota\n",
        "        melhoraluno = dicionario[\"nome\"]\n",
        "        \n",
        "print(f'O melhor aluno é: {melhoraluno}')\n",
        "    "
      ]
    },
    {
      "cell_type": "markdown",
      "metadata": {},
      "source": [
        "5 - Escreva uma função chamada `inverter_string` que receba uma string como parâmetro e retorne a string invertida."
      ]
    },
    {
      "cell_type": "code",
      "execution_count": 23,
      "metadata": {},
      "outputs": [
        {
          "name": "stdout",
          "output_type": "stream",
          "text": [
            "aditrevni gnirts ed etseT\n"
          ]
        }
      ],
      "source": [
        "def inverter_string():\n",
        "    string = input(\"Escreva sua frase: \")\n",
        "    print(string[::-1])\n",
        "    \n",
        "inverter_string()"
      ]
    },
    {
      "cell_type": "markdown",
      "metadata": {},
      "source": [
        "6 - Escreva uma função chamada `media_lista` que receba uma lista de números e retorne a média aritmética dos valores. A função deve verificar se a lista está vazia e retornar `\"Lista vazia\"` se for o caso."
      ]
    },
    {
      "cell_type": "code",
      "execution_count": null,
      "metadata": {},
      "outputs": [
        {
          "name": "stdout",
          "output_type": "stream",
          "text": [
            "A media dos numeros ([10, 10, 10, 10, 10] é: 10.0)\n"
          ]
        },
        {
          "data": {
            "text/plain": [
              "10.0"
            ]
          },
          "execution_count": 23,
          "metadata": {},
          "output_type": "execute_result"
        }
      ],
      "source": [
        "def media_lista():\n",
        "    numeros = input(\"Escreva uma lista de números separados por espaço: \")\n",
        "    numeros_separados = numeros.split()\n",
        "    lista_numeros = [int(n) for n in numeros_separados]\n",
        "\n",
        "    \n",
        "    media = sum(lista_numeros) / len(lista_numeros)\n",
        "    \n",
        "    if len(lista_numeros) == 0:\n",
        "        print(f'Sua lista está vazia!')\n",
        "    else:\n",
        "        print(f'A media dos numeros ({lista_numeros} é: {media})')\n",
        "        return media\n",
        "    \n",
        "media_lista()\n",
        "        "
      ]
    },
    {
      "cell_type": "markdown",
      "metadata": {},
      "source": [
        "7 - Crie um programa que leia uma lista de nomes (strings) e conte quantas vezes cada nome aparece. Use um dicionário para armazenar o nome como chave e a quantidade como valor."
      ]
    },
    {
      "cell_type": "code",
      "execution_count": null,
      "metadata": {},
      "outputs": [
        {
          "name": "stdout",
          "output_type": "stream",
          "text": [
            "A contagem dos nomes é: [{'Ana': 3}, {'João': 2}]\n"
          ]
        }
      ],
      "source": [
        "def conta_nomes():\n",
        "    nomes = [nome.strip().title() for nome in input(\"Escreva os nomes separados por virgula:\").split(\",\")]\n",
        "    contagem = []\n",
        "    verificados = []\n",
        "    \n",
        "    for nome in nomes:\n",
        "        if nome not in verificados:\n",
        "            cont = 0\n",
        "            for i in range(len(nomes)):\n",
        "                if nome == nomes[i]:\n",
        "                    cont += 1\n",
        "            contagem.append({nome : cont})\n",
        "            verificados.append(nome)\n",
        "    \n",
        "    print(f\"A contagem dos nomes é: {contagem}\")\n",
        "\n",
        "\n",
        "\n",
        "conta_nomes()"
      ]
    },
    {
      "cell_type": "markdown",
      "metadata": {},
      "source": [
        "8 - Escreva uma função chamada `remover_repetidos` que receba uma lista e retorne uma nova lista com os elementos únicos (sem repetições), mantendo a ordem original."
      ]
    },
    {
      "cell_type": "code",
      "execution_count": 27,
      "metadata": {},
      "outputs": [
        {
          "name": "stdout",
          "output_type": "stream",
          "text": [
            "A lista sem repetições é: ['1', '2', '3', '4']\n"
          ]
        }
      ],
      "source": [
        "def remover_repetidos():\n",
        "    lista = [elemento.strip() for elemento in input(\"Esvreva os valores separados por virgula: \").split(\",\")]\n",
        "    lista_unica = []\n",
        "\n",
        "    for elemento in lista:\n",
        "        if elemento not in lista_unica:\n",
        "            lista_unica.append(elemento)\n",
        "    \n",
        "    print(f\"A lista sem repetições é: {lista_unica}\")\n",
        "\n",
        "remover_repetidos()"
      ]
    }
  ],
  "metadata": {
    "kernelspec": {
      "display_name": "Python 3",
      "language": "python",
      "name": "python3"
    },
    "language_info": {
      "codemirror_mode": {
        "name": "ipython",
        "version": 3
      },
      "file_extension": ".py",
      "mimetype": "text/x-python",
      "name": "python",
      "nbconvert_exporter": "python",
      "pygments_lexer": "ipython3",
      "version": "3.13.2"
    },
    "nteract": {
      "version": "nteract-front-end@1.0.0"
    }
  },
  "nbformat": 4,
  "nbformat_minor": 2
}
